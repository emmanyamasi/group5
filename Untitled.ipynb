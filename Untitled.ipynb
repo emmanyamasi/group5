{
 "cells": [
  {
   "cell_type": "code",
   "execution_count": 1,
   "id": "486f1a18",
   "metadata": {},
   "outputs": [],
   "source": [
    "import pandas as pd\n",
    "import numpy as np\n"
   ]
  },
  {
   "cell_type": "code",
   "execution_count": 2,
   "id": "cf69c3ef",
   "metadata": {},
   "outputs": [
    {
     "data": {
      "text/html": [
       "<div>\n",
       "<style scoped>\n",
       "    .dataframe tbody tr th:only-of-type {\n",
       "        vertical-align: middle;\n",
       "    }\n",
       "\n",
       "    .dataframe tbody tr th {\n",
       "        vertical-align: top;\n",
       "    }\n",
       "\n",
       "    .dataframe thead th {\n",
       "        text-align: right;\n",
       "    }\n",
       "</style>\n",
       "<table border=\"1\" class=\"dataframe\">\n",
       "  <thead>\n",
       "    <tr style=\"text-align: right;\">\n",
       "      <th></th>\n",
       "      <th>sepallength</th>\n",
       "      <th>sepalwidth</th>\n",
       "      <th>petallength</th>\n",
       "      <th>petalwidth</th>\n",
       "      <th>class</th>\n",
       "    </tr>\n",
       "  </thead>\n",
       "  <tbody>\n",
       "    <tr>\n",
       "      <th>0</th>\n",
       "      <td>5.1</td>\n",
       "      <td>3.5</td>\n",
       "      <td>1.4</td>\n",
       "      <td>0.2</td>\n",
       "      <td>Iris-setosa</td>\n",
       "    </tr>\n",
       "    <tr>\n",
       "      <th>1</th>\n",
       "      <td>4.9</td>\n",
       "      <td>3.0</td>\n",
       "      <td>1.4</td>\n",
       "      <td>0.2</td>\n",
       "      <td>Iris-setosa</td>\n",
       "    </tr>\n",
       "    <tr>\n",
       "      <th>2</th>\n",
       "      <td>4.7</td>\n",
       "      <td>3.2</td>\n",
       "      <td>1.3</td>\n",
       "      <td>0.2</td>\n",
       "      <td>Iris-setosa</td>\n",
       "    </tr>\n",
       "    <tr>\n",
       "      <th>3</th>\n",
       "      <td>4.6</td>\n",
       "      <td>3.1</td>\n",
       "      <td>1.5</td>\n",
       "      <td>0.2</td>\n",
       "      <td>Iris-setosa</td>\n",
       "    </tr>\n",
       "    <tr>\n",
       "      <th>4</th>\n",
       "      <td>5.0</td>\n",
       "      <td>3.6</td>\n",
       "      <td>1.4</td>\n",
       "      <td>0.2</td>\n",
       "      <td>Iris-setosa</td>\n",
       "    </tr>\n",
       "  </tbody>\n",
       "</table>\n",
       "</div>"
      ],
      "text/plain": [
       "   sepallength  sepalwidth  petallength  petalwidth        class\n",
       "0          5.1         3.5          1.4         0.2  Iris-setosa\n",
       "1          4.9         3.0          1.4         0.2  Iris-setosa\n",
       "2          4.7         3.2          1.3         0.2  Iris-setosa\n",
       "3          4.6         3.1          1.5         0.2  Iris-setosa\n",
       "4          5.0         3.6          1.4         0.2  Iris-setosa"
      ]
     },
     "execution_count": 2,
     "metadata": {},
     "output_type": "execute_result"
    }
   ],
   "source": [
    "data = pd.read_csv(\"iris (2).csv\")\n",
    "data.head(5)"
   ]
  },
  {
   "cell_type": "code",
   "execution_count": 3,
   "id": "4049e207",
   "metadata": {},
   "outputs": [
    {
     "data": {
      "text/html": [
       "<div>\n",
       "<style scoped>\n",
       "    .dataframe tbody tr th:only-of-type {\n",
       "        vertical-align: middle;\n",
       "    }\n",
       "\n",
       "    .dataframe tbody tr th {\n",
       "        vertical-align: top;\n",
       "    }\n",
       "\n",
       "    .dataframe thead th {\n",
       "        text-align: right;\n",
       "    }\n",
       "</style>\n",
       "<table border=\"1\" class=\"dataframe\">\n",
       "  <thead>\n",
       "    <tr style=\"text-align: right;\">\n",
       "      <th></th>\n",
       "      <th>sepallength</th>\n",
       "      <th>sepalwidth</th>\n",
       "      <th>petallength</th>\n",
       "      <th>petalwidth</th>\n",
       "    </tr>\n",
       "  </thead>\n",
       "  <tbody>\n",
       "    <tr>\n",
       "      <th>count</th>\n",
       "      <td>150.000000</td>\n",
       "      <td>150.000000</td>\n",
       "      <td>150.000000</td>\n",
       "      <td>150.000000</td>\n",
       "    </tr>\n",
       "    <tr>\n",
       "      <th>mean</th>\n",
       "      <td>5.843333</td>\n",
       "      <td>3.054000</td>\n",
       "      <td>3.758667</td>\n",
       "      <td>1.198667</td>\n",
       "    </tr>\n",
       "    <tr>\n",
       "      <th>std</th>\n",
       "      <td>0.828066</td>\n",
       "      <td>0.433594</td>\n",
       "      <td>1.764420</td>\n",
       "      <td>0.763161</td>\n",
       "    </tr>\n",
       "    <tr>\n",
       "      <th>min</th>\n",
       "      <td>4.300000</td>\n",
       "      <td>2.000000</td>\n",
       "      <td>1.000000</td>\n",
       "      <td>0.100000</td>\n",
       "    </tr>\n",
       "    <tr>\n",
       "      <th>25%</th>\n",
       "      <td>5.100000</td>\n",
       "      <td>2.800000</td>\n",
       "      <td>1.600000</td>\n",
       "      <td>0.300000</td>\n",
       "    </tr>\n",
       "    <tr>\n",
       "      <th>50%</th>\n",
       "      <td>5.800000</td>\n",
       "      <td>3.000000</td>\n",
       "      <td>4.350000</td>\n",
       "      <td>1.300000</td>\n",
       "    </tr>\n",
       "    <tr>\n",
       "      <th>75%</th>\n",
       "      <td>6.400000</td>\n",
       "      <td>3.300000</td>\n",
       "      <td>5.100000</td>\n",
       "      <td>1.800000</td>\n",
       "    </tr>\n",
       "    <tr>\n",
       "      <th>max</th>\n",
       "      <td>7.900000</td>\n",
       "      <td>4.400000</td>\n",
       "      <td>6.900000</td>\n",
       "      <td>2.500000</td>\n",
       "    </tr>\n",
       "  </tbody>\n",
       "</table>\n",
       "</div>"
      ],
      "text/plain": [
       "       sepallength  sepalwidth  petallength  petalwidth\n",
       "count   150.000000  150.000000   150.000000  150.000000\n",
       "mean      5.843333    3.054000     3.758667    1.198667\n",
       "std       0.828066    0.433594     1.764420    0.763161\n",
       "min       4.300000    2.000000     1.000000    0.100000\n",
       "25%       5.100000    2.800000     1.600000    0.300000\n",
       "50%       5.800000    3.000000     4.350000    1.300000\n",
       "75%       6.400000    3.300000     5.100000    1.800000\n",
       "max       7.900000    4.400000     6.900000    2.500000"
      ]
     },
     "execution_count": 3,
     "metadata": {},
     "output_type": "execute_result"
    }
   ],
   "source": [
    "data.describe()"
   ]
  },
  {
   "cell_type": "code",
   "execution_count": 4,
   "id": "081dfb3c",
   "metadata": {},
   "outputs": [
    {
     "name": "stdout",
     "output_type": "stream",
     "text": [
      "<class 'pandas.core.frame.DataFrame'>\n",
      "RangeIndex: 150 entries, 0 to 149\n",
      "Data columns (total 5 columns):\n",
      " #   Column       Non-Null Count  Dtype  \n",
      "---  ------       --------------  -----  \n",
      " 0   sepallength  150 non-null    float64\n",
      " 1   sepalwidth   150 non-null    float64\n",
      " 2   petallength  150 non-null    float64\n",
      " 3   petalwidth   150 non-null    float64\n",
      " 4   class        150 non-null    object \n",
      "dtypes: float64(4), object(1)\n",
      "memory usage: 6.0+ KB\n"
     ]
    }
   ],
   "source": [
    "data.info()"
   ]
  },
  {
   "cell_type": "code",
   "execution_count": 5,
   "id": "dcdfc159",
   "metadata": {},
   "outputs": [
    {
     "data": {
      "text/plain": [
       "sepallength    0\n",
       "sepalwidth     0\n",
       "petallength    0\n",
       "petalwidth     0\n",
       "class          0\n",
       "dtype: int64"
      ]
     },
     "execution_count": 5,
     "metadata": {},
     "output_type": "execute_result"
    }
   ],
   "source": [
    "data.isnull().sum()"
   ]
  },
  {
   "cell_type": "code",
   "execution_count": 6,
   "id": "3231f68e",
   "metadata": {},
   "outputs": [
    {
     "data": {
      "text/plain": [
       "3"
      ]
     },
     "execution_count": 6,
     "metadata": {},
     "output_type": "execute_result"
    }
   ],
   "source": [
    " data.duplicated().sum()"
   ]
  },
  {
   "cell_type": "code",
   "execution_count": 7,
   "id": "3e67a204",
   "metadata": {},
   "outputs": [
    {
     "data": {
      "text/html": [
       "<div>\n",
       "<style scoped>\n",
       "    .dataframe tbody tr th:only-of-type {\n",
       "        vertical-align: middle;\n",
       "    }\n",
       "\n",
       "    .dataframe tbody tr th {\n",
       "        vertical-align: top;\n",
       "    }\n",
       "\n",
       "    .dataframe thead th {\n",
       "        text-align: right;\n",
       "    }\n",
       "</style>\n",
       "<table border=\"1\" class=\"dataframe\">\n",
       "  <thead>\n",
       "    <tr style=\"text-align: right;\">\n",
       "      <th></th>\n",
       "      <th>sepallength</th>\n",
       "      <th>sepalwidth</th>\n",
       "      <th>petallength</th>\n",
       "      <th>petalwidth</th>\n",
       "      <th>class</th>\n",
       "    </tr>\n",
       "  </thead>\n",
       "  <tbody>\n",
       "    <tr>\n",
       "      <th>9</th>\n",
       "      <td>4.9</td>\n",
       "      <td>3.1</td>\n",
       "      <td>1.5</td>\n",
       "      <td>0.1</td>\n",
       "      <td>Iris-setosa</td>\n",
       "    </tr>\n",
       "    <tr>\n",
       "      <th>34</th>\n",
       "      <td>4.9</td>\n",
       "      <td>3.1</td>\n",
       "      <td>1.5</td>\n",
       "      <td>0.1</td>\n",
       "      <td>Iris-setosa</td>\n",
       "    </tr>\n",
       "    <tr>\n",
       "      <th>37</th>\n",
       "      <td>4.9</td>\n",
       "      <td>3.1</td>\n",
       "      <td>1.5</td>\n",
       "      <td>0.1</td>\n",
       "      <td>Iris-setosa</td>\n",
       "    </tr>\n",
       "    <tr>\n",
       "      <th>101</th>\n",
       "      <td>5.8</td>\n",
       "      <td>2.7</td>\n",
       "      <td>5.1</td>\n",
       "      <td>1.9</td>\n",
       "      <td>Iris-virginica</td>\n",
       "    </tr>\n",
       "    <tr>\n",
       "      <th>142</th>\n",
       "      <td>5.8</td>\n",
       "      <td>2.7</td>\n",
       "      <td>5.1</td>\n",
       "      <td>1.9</td>\n",
       "      <td>Iris-virginica</td>\n",
       "    </tr>\n",
       "  </tbody>\n",
       "</table>\n",
       "</div>"
      ],
      "text/plain": [
       "     sepallength  sepalwidth  petallength  petalwidth           class\n",
       "9            4.9         3.1          1.5         0.1     Iris-setosa\n",
       "34           4.9         3.1          1.5         0.1     Iris-setosa\n",
       "37           4.9         3.1          1.5         0.1     Iris-setosa\n",
       "101          5.8         2.7          5.1         1.9  Iris-virginica\n",
       "142          5.8         2.7          5.1         1.9  Iris-virginica"
      ]
     },
     "execution_count": 7,
     "metadata": {},
     "output_type": "execute_result"
    }
   ],
   "source": [
    " #keep=false means mark all duplicates as true\n",
    "data.loc[data.duplicated(keep=False), :]\n"
   ]
  },
  {
   "cell_type": "code",
   "execution_count": 8,
   "id": "642bef04",
   "metadata": {},
   "outputs": [
    {
     "data": {
      "text/plain": [
       "(145, 5)"
      ]
     },
     "execution_count": 8,
     "metadata": {},
     "output_type": "execute_result"
    }
   ],
   "source": [
    "data.drop_duplicates(keep=False).shape"
   ]
  },
  {
   "cell_type": "code",
   "execution_count": 21,
   "id": "7a38f4c3",
   "metadata": {},
   "outputs": [
    {
     "data": {
      "text/plain": [
       "array([[5.1, 3.5, 1.4, 0.2, 'Iris-setosa'],\n",
       "       [4.9, 3.0, 1.4, 0.2, 'Iris-setosa'],\n",
       "       [4.7, 3.2, 1.3, 0.2, 'Iris-setosa'],\n",
       "       [4.6, 3.1, 1.5, 0.2, 'Iris-setosa'],\n",
       "       [5.0, 3.6, 1.4, 0.2, 'Iris-setosa'],\n",
       "       [5.4, 3.9, 1.7, 0.4, 'Iris-setosa'],\n",
       "       [4.6, 3.4, 1.4, 0.3, 'Iris-setosa'],\n",
       "       [5.0, 3.4, 1.5, 0.2, 'Iris-setosa'],\n",
       "       [4.4, 2.9, 1.4, 0.2, 'Iris-setosa'],\n",
       "       [4.9, 3.1, 1.5, 0.1, 'Iris-setosa'],\n",
       "       [5.4, 3.7, 1.5, 0.2, 'Iris-setosa'],\n",
       "       [4.8, 3.4, 1.6, 0.2, 'Iris-setosa'],\n",
       "       [4.8, 3.0, 1.4, 0.1, 'Iris-setosa'],\n",
       "       [4.3, 3.0, 1.1, 0.1, 'Iris-setosa'],\n",
       "       [5.8, 4.0, 1.2, 0.2, 'Iris-setosa'],\n",
       "       [5.7, 4.4, 1.5, 0.4, 'Iris-setosa'],\n",
       "       [5.4, 3.9, 1.3, 0.4, 'Iris-setosa'],\n",
       "       [5.1, 3.5, 1.4, 0.3, 'Iris-setosa'],\n",
       "       [5.7, 3.8, 1.7, 0.3, 'Iris-setosa'],\n",
       "       [5.1, 3.8, 1.5, 0.3, 'Iris-setosa'],\n",
       "       [5.4, 3.4, 1.7, 0.2, 'Iris-setosa'],\n",
       "       [5.1, 3.7, 1.5, 0.4, 'Iris-setosa'],\n",
       "       [4.6, 3.6, 1.0, 0.2, 'Iris-setosa'],\n",
       "       [5.1, 3.3, 1.7, 0.5, 'Iris-setosa'],\n",
       "       [4.8, 3.4, 1.9, 0.2, 'Iris-setosa'],\n",
       "       [5.0, 3.0, 1.6, 0.2, 'Iris-setosa'],\n",
       "       [5.0, 3.4, 1.6, 0.4, 'Iris-setosa'],\n",
       "       [5.2, 3.5, 1.5, 0.2, 'Iris-setosa'],\n",
       "       [5.2, 3.4, 1.4, 0.2, 'Iris-setosa'],\n",
       "       [4.7, 3.2, 1.6, 0.2, 'Iris-setosa'],\n",
       "       [4.8, 3.1, 1.6, 0.2, 'Iris-setosa'],\n",
       "       [5.4, 3.4, 1.5, 0.4, 'Iris-setosa'],\n",
       "       [5.2, 4.1, 1.5, 0.1, 'Iris-setosa'],\n",
       "       [5.5, 4.2, 1.4, 0.2, 'Iris-setosa'],\n",
       "       [4.9, 3.1, 1.5, 0.1, 'Iris-setosa'],\n",
       "       [5.0, 3.2, 1.2, 0.2, 'Iris-setosa'],\n",
       "       [5.5, 3.5, 1.3, 0.2, 'Iris-setosa'],\n",
       "       [4.9, 3.1, 1.5, 0.1, 'Iris-setosa'],\n",
       "       [4.4, 3.0, 1.3, 0.2, 'Iris-setosa'],\n",
       "       [5.1, 3.4, 1.5, 0.2, 'Iris-setosa'],\n",
       "       [5.0, 3.5, 1.3, 0.3, 'Iris-setosa'],\n",
       "       [4.5, 2.3, 1.3, 0.3, 'Iris-setosa'],\n",
       "       [4.4, 3.2, 1.3, 0.2, 'Iris-setosa'],\n",
       "       [5.0, 3.5, 1.6, 0.6, 'Iris-setosa'],\n",
       "       [5.1, 3.8, 1.9, 0.4, 'Iris-setosa'],\n",
       "       [4.8, 3.0, 1.4, 0.3, 'Iris-setosa'],\n",
       "       [5.1, 3.8, 1.6, 0.2, 'Iris-setosa'],\n",
       "       [4.6, 3.2, 1.4, 0.2, 'Iris-setosa'],\n",
       "       [5.3, 3.7, 1.5, 0.2, 'Iris-setosa'],\n",
       "       [5.0, 3.3, 1.4, 0.2, 'Iris-setosa'],\n",
       "       [7.0, 3.2, 4.7, 1.4, 'Iris-versicolor'],\n",
       "       [6.4, 3.2, 4.5, 1.5, 'Iris-versicolor'],\n",
       "       [6.9, 3.1, 4.9, 1.5, 'Iris-versicolor'],\n",
       "       [5.5, 2.3, 4.0, 1.3, 'Iris-versicolor'],\n",
       "       [6.5, 2.8, 4.6, 1.5, 'Iris-versicolor'],\n",
       "       [5.7, 2.8, 4.5, 1.3, 'Iris-versicolor'],\n",
       "       [6.3, 3.3, 4.7, 1.6, 'Iris-versicolor'],\n",
       "       [4.9, 2.4, 3.3, 1.0, 'Iris-versicolor'],\n",
       "       [6.6, 2.9, 4.6, 1.3, 'Iris-versicolor'],\n",
       "       [5.2, 2.7, 3.9, 1.4, 'Iris-versicolor'],\n",
       "       [5.0, 2.0, 3.5, 1.0, 'Iris-versicolor'],\n",
       "       [5.9, 3.0, 4.2, 1.5, 'Iris-versicolor'],\n",
       "       [6.0, 2.2, 4.0, 1.0, 'Iris-versicolor'],\n",
       "       [6.1, 2.9, 4.7, 1.4, 'Iris-versicolor'],\n",
       "       [5.6, 2.9, 3.6, 1.3, 'Iris-versicolor'],\n",
       "       [6.7, 3.1, 4.4, 1.4, 'Iris-versicolor'],\n",
       "       [5.6, 3.0, 4.5, 1.5, 'Iris-versicolor'],\n",
       "       [5.8, 2.7, 4.1, 1.0, 'Iris-versicolor'],\n",
       "       [6.2, 2.2, 4.5, 1.5, 'Iris-versicolor'],\n",
       "       [5.6, 2.5, 3.9, 1.1, 'Iris-versicolor'],\n",
       "       [5.9, 3.2, 4.8, 1.8, 'Iris-versicolor'],\n",
       "       [6.1, 2.8, 4.0, 1.3, 'Iris-versicolor'],\n",
       "       [6.3, 2.5, 4.9, 1.5, 'Iris-versicolor'],\n",
       "       [6.1, 2.8, 4.7, 1.2, 'Iris-versicolor'],\n",
       "       [6.4, 2.9, 4.3, 1.3, 'Iris-versicolor'],\n",
       "       [6.6, 3.0, 4.4, 1.4, 'Iris-versicolor'],\n",
       "       [6.8, 2.8, 4.8, 1.4, 'Iris-versicolor'],\n",
       "       [6.7, 3.0, 5.0, 1.7, 'Iris-versicolor'],\n",
       "       [6.0, 2.9, 4.5, 1.5, 'Iris-versicolor'],\n",
       "       [5.7, 2.6, 3.5, 1.0, 'Iris-versicolor'],\n",
       "       [5.5, 2.4, 3.8, 1.1, 'Iris-versicolor'],\n",
       "       [5.5, 2.4, 3.7, 1.0, 'Iris-versicolor'],\n",
       "       [5.8, 2.7, 3.9, 1.2, 'Iris-versicolor'],\n",
       "       [6.0, 2.7, 5.1, 1.6, 'Iris-versicolor'],\n",
       "       [5.4, 3.0, 4.5, 1.5, 'Iris-versicolor'],\n",
       "       [6.0, 3.4, 4.5, 1.6, 'Iris-versicolor'],\n",
       "       [6.7, 3.1, 4.7, 1.5, 'Iris-versicolor'],\n",
       "       [6.3, 2.3, 4.4, 1.3, 'Iris-versicolor'],\n",
       "       [5.6, 3.0, 4.1, 1.3, 'Iris-versicolor'],\n",
       "       [5.5, 2.5, 4.0, 1.3, 'Iris-versicolor'],\n",
       "       [5.5, 2.6, 4.4, 1.2, 'Iris-versicolor'],\n",
       "       [6.1, 3.0, 4.6, 1.4, 'Iris-versicolor'],\n",
       "       [5.8, 2.6, 4.0, 1.2, 'Iris-versicolor'],\n",
       "       [5.0, 2.3, 3.3, 1.0, 'Iris-versicolor'],\n",
       "       [5.6, 2.7, 4.2, 1.3, 'Iris-versicolor'],\n",
       "       [5.7, 3.0, 4.2, 1.2, 'Iris-versicolor'],\n",
       "       [5.7, 2.9, 4.2, 1.3, 'Iris-versicolor'],\n",
       "       [6.2, 2.9, 4.3, 1.3, 'Iris-versicolor'],\n",
       "       [5.1, 2.5, 3.0, 1.1, 'Iris-versicolor'],\n",
       "       [5.7, 2.8, 4.1, 1.3, 'Iris-versicolor'],\n",
       "       [6.3, 3.3, 6.0, 2.5, 'Iris-virginica'],\n",
       "       [5.8, 2.7, 5.1, 1.9, 'Iris-virginica'],\n",
       "       [7.1, 3.0, 5.9, 2.1, 'Iris-virginica'],\n",
       "       [6.3, 2.9, 5.6, 1.8, 'Iris-virginica'],\n",
       "       [6.5, 3.0, 5.8, 2.2, 'Iris-virginica'],\n",
       "       [7.6, 3.0, 6.6, 2.1, 'Iris-virginica'],\n",
       "       [4.9, 2.5, 4.5, 1.7, 'Iris-virginica'],\n",
       "       [7.3, 2.9, 6.3, 1.8, 'Iris-virginica'],\n",
       "       [6.7, 2.5, 5.8, 1.8, 'Iris-virginica'],\n",
       "       [7.2, 3.6, 6.1, 2.5, 'Iris-virginica'],\n",
       "       [6.5, 3.2, 5.1, 2.0, 'Iris-virginica'],\n",
       "       [6.4, 2.7, 5.3, 1.9, 'Iris-virginica'],\n",
       "       [6.8, 3.0, 5.5, 2.1, 'Iris-virginica'],\n",
       "       [5.7, 2.5, 5.0, 2.0, 'Iris-virginica'],\n",
       "       [5.8, 2.8, 5.1, 2.4, 'Iris-virginica'],\n",
       "       [6.4, 3.2, 5.3, 2.3, 'Iris-virginica'],\n",
       "       [6.5, 3.0, 5.5, 1.8, 'Iris-virginica'],\n",
       "       [7.7, 3.8, 6.7, 2.2, 'Iris-virginica'],\n",
       "       [7.7, 2.6, 6.9, 2.3, 'Iris-virginica'],\n",
       "       [6.0, 2.2, 5.0, 1.5, 'Iris-virginica'],\n",
       "       [6.9, 3.2, 5.7, 2.3, 'Iris-virginica'],\n",
       "       [5.6, 2.8, 4.9, 2.0, 'Iris-virginica'],\n",
       "       [7.7, 2.8, 6.7, 2.0, 'Iris-virginica'],\n",
       "       [6.3, 2.7, 4.9, 1.8, 'Iris-virginica'],\n",
       "       [6.7, 3.3, 5.7, 2.1, 'Iris-virginica'],\n",
       "       [7.2, 3.2, 6.0, 1.8, 'Iris-virginica'],\n",
       "       [6.2, 2.8, 4.8, 1.8, 'Iris-virginica'],\n",
       "       [6.1, 3.0, 4.9, 1.8, 'Iris-virginica'],\n",
       "       [6.4, 2.8, 5.6, 2.1, 'Iris-virginica'],\n",
       "       [7.2, 3.0, 5.8, 1.6, 'Iris-virginica'],\n",
       "       [7.4, 2.8, 6.1, 1.9, 'Iris-virginica'],\n",
       "       [7.9, 3.8, 6.4, 2.0, 'Iris-virginica'],\n",
       "       [6.4, 2.8, 5.6, 2.2, 'Iris-virginica'],\n",
       "       [6.3, 2.8, 5.1, 1.5, 'Iris-virginica'],\n",
       "       [6.1, 2.6, 5.6, 1.4, 'Iris-virginica'],\n",
       "       [7.7, 3.0, 6.1, 2.3, 'Iris-virginica'],\n",
       "       [6.3, 3.4, 5.6, 2.4, 'Iris-virginica'],\n",
       "       [6.4, 3.1, 5.5, 1.8, 'Iris-virginica'],\n",
       "       [6.0, 3.0, 4.8, 1.8, 'Iris-virginica'],\n",
       "       [6.9, 3.1, 5.4, 2.1, 'Iris-virginica'],\n",
       "       [6.7, 3.1, 5.6, 2.4, 'Iris-virginica'],\n",
       "       [6.9, 3.1, 5.1, 2.3, 'Iris-virginica'],\n",
       "       [5.8, 2.7, 5.1, 1.9, 'Iris-virginica'],\n",
       "       [6.8, 3.2, 5.9, 2.3, 'Iris-virginica'],\n",
       "       [6.7, 3.3, 5.7, 2.5, 'Iris-virginica'],\n",
       "       [6.7, 3.0, 5.2, 2.3, 'Iris-virginica'],\n",
       "       [6.3, 2.5, 5.0, 1.9, 'Iris-virginica'],\n",
       "       [6.5, 3.0, 5.2, 2.0, 'Iris-virginica'],\n",
       "       [6.2, 3.4, 5.4, 2.3, 'Iris-virginica'],\n",
       "       [5.9, 3.0, 5.1, 1.8, 'Iris-virginica']], dtype=object)"
      ]
     },
     "execution_count": 21,
     "metadata": {},
     "output_type": "execute_result"
    }
   ],
   "source": [
    "df= data.to_numpy()\n",
    "df\n",
    "\n"
   ]
  },
  {
   "cell_type": "code",
   "execution_count": 18,
   "id": "8a8217fe",
   "metadata": {},
   "outputs": [
    {
     "data": {
      "text/plain": [
       "(150, 5)"
      ]
     },
     "execution_count": 18,
     "metadata": {},
     "output_type": "execute_result"
    }
   ],
   "source": [
    "#shaping numpy\n",
    "arr =np.array(df)\n",
    "arr.shape\n",
    "\n"
   ]
  },
  {
   "cell_type": "code",
   "execution_count": 11,
   "id": "a5e9de8f",
   "metadata": {},
   "outputs": [],
   "source": [
    "#reshaping\n"
   ]
  },
  {
   "cell_type": "code",
   "execution_count": 22,
   "id": "d6ab9a06",
   "metadata": {},
   "outputs": [
    {
     "name": "stdout",
     "output_type": "stream",
     "text": [
      "[array([[5.1, 3.5, 1.4, 0.2, 'Iris-setosa'],\n",
      "       [4.9, 3.0, 1.4, 0.2, 'Iris-setosa'],\n",
      "       [4.7, 3.2, 1.3, 0.2, 'Iris-setosa'],\n",
      "       [4.6, 3.1, 1.5, 0.2, 'Iris-setosa'],\n",
      "       [5.0, 3.6, 1.4, 0.2, 'Iris-setosa'],\n",
      "       [5.4, 3.9, 1.7, 0.4, 'Iris-setosa'],\n",
      "       [4.6, 3.4, 1.4, 0.3, 'Iris-setosa'],\n",
      "       [5.0, 3.4, 1.5, 0.2, 'Iris-setosa'],\n",
      "       [4.4, 2.9, 1.4, 0.2, 'Iris-setosa'],\n",
      "       [4.9, 3.1, 1.5, 0.1, 'Iris-setosa'],\n",
      "       [5.4, 3.7, 1.5, 0.2, 'Iris-setosa'],\n",
      "       [4.8, 3.4, 1.6, 0.2, 'Iris-setosa'],\n",
      "       [4.8, 3.0, 1.4, 0.1, 'Iris-setosa'],\n",
      "       [4.3, 3.0, 1.1, 0.1, 'Iris-setosa'],\n",
      "       [5.8, 4.0, 1.2, 0.2, 'Iris-setosa'],\n",
      "       [5.7, 4.4, 1.5, 0.4, 'Iris-setosa'],\n",
      "       [5.4, 3.9, 1.3, 0.4, 'Iris-setosa'],\n",
      "       [5.1, 3.5, 1.4, 0.3, 'Iris-setosa'],\n",
      "       [5.7, 3.8, 1.7, 0.3, 'Iris-setosa'],\n",
      "       [5.1, 3.8, 1.5, 0.3, 'Iris-setosa'],\n",
      "       [5.4, 3.4, 1.7, 0.2, 'Iris-setosa'],\n",
      "       [5.1, 3.7, 1.5, 0.4, 'Iris-setosa'],\n",
      "       [4.6, 3.6, 1.0, 0.2, 'Iris-setosa'],\n",
      "       [5.1, 3.3, 1.7, 0.5, 'Iris-setosa'],\n",
      "       [4.8, 3.4, 1.9, 0.2, 'Iris-setosa'],\n",
      "       [5.0, 3.0, 1.6, 0.2, 'Iris-setosa'],\n",
      "       [5.0, 3.4, 1.6, 0.4, 'Iris-setosa'],\n",
      "       [5.2, 3.5, 1.5, 0.2, 'Iris-setosa'],\n",
      "       [5.2, 3.4, 1.4, 0.2, 'Iris-setosa'],\n",
      "       [4.7, 3.2, 1.6, 0.2, 'Iris-setosa'],\n",
      "       [4.8, 3.1, 1.6, 0.2, 'Iris-setosa'],\n",
      "       [5.4, 3.4, 1.5, 0.4, 'Iris-setosa'],\n",
      "       [5.2, 4.1, 1.5, 0.1, 'Iris-setosa'],\n",
      "       [5.5, 4.2, 1.4, 0.2, 'Iris-setosa'],\n",
      "       [4.9, 3.1, 1.5, 0.1, 'Iris-setosa'],\n",
      "       [5.0, 3.2, 1.2, 0.2, 'Iris-setosa'],\n",
      "       [5.5, 3.5, 1.3, 0.2, 'Iris-setosa'],\n",
      "       [4.9, 3.1, 1.5, 0.1, 'Iris-setosa'],\n",
      "       [4.4, 3.0, 1.3, 0.2, 'Iris-setosa'],\n",
      "       [5.1, 3.4, 1.5, 0.2, 'Iris-setosa'],\n",
      "       [5.0, 3.5, 1.3, 0.3, 'Iris-setosa'],\n",
      "       [4.5, 2.3, 1.3, 0.3, 'Iris-setosa'],\n",
      "       [4.4, 3.2, 1.3, 0.2, 'Iris-setosa'],\n",
      "       [5.0, 3.5, 1.6, 0.6, 'Iris-setosa'],\n",
      "       [5.1, 3.8, 1.9, 0.4, 'Iris-setosa'],\n",
      "       [4.8, 3.0, 1.4, 0.3, 'Iris-setosa'],\n",
      "       [5.1, 3.8, 1.6, 0.2, 'Iris-setosa'],\n",
      "       [4.6, 3.2, 1.4, 0.2, 'Iris-setosa'],\n",
      "       [5.3, 3.7, 1.5, 0.2, 'Iris-setosa'],\n",
      "       [5.0, 3.3, 1.4, 0.2, 'Iris-setosa']], dtype=object), array([[7.0, 3.2, 4.7, 1.4, 'Iris-versicolor'],\n",
      "       [6.4, 3.2, 4.5, 1.5, 'Iris-versicolor'],\n",
      "       [6.9, 3.1, 4.9, 1.5, 'Iris-versicolor'],\n",
      "       [5.5, 2.3, 4.0, 1.3, 'Iris-versicolor'],\n",
      "       [6.5, 2.8, 4.6, 1.5, 'Iris-versicolor'],\n",
      "       [5.7, 2.8, 4.5, 1.3, 'Iris-versicolor'],\n",
      "       [6.3, 3.3, 4.7, 1.6, 'Iris-versicolor'],\n",
      "       [4.9, 2.4, 3.3, 1.0, 'Iris-versicolor'],\n",
      "       [6.6, 2.9, 4.6, 1.3, 'Iris-versicolor'],\n",
      "       [5.2, 2.7, 3.9, 1.4, 'Iris-versicolor'],\n",
      "       [5.0, 2.0, 3.5, 1.0, 'Iris-versicolor'],\n",
      "       [5.9, 3.0, 4.2, 1.5, 'Iris-versicolor'],\n",
      "       [6.0, 2.2, 4.0, 1.0, 'Iris-versicolor'],\n",
      "       [6.1, 2.9, 4.7, 1.4, 'Iris-versicolor'],\n",
      "       [5.6, 2.9, 3.6, 1.3, 'Iris-versicolor'],\n",
      "       [6.7, 3.1, 4.4, 1.4, 'Iris-versicolor'],\n",
      "       [5.6, 3.0, 4.5, 1.5, 'Iris-versicolor'],\n",
      "       [5.8, 2.7, 4.1, 1.0, 'Iris-versicolor'],\n",
      "       [6.2, 2.2, 4.5, 1.5, 'Iris-versicolor'],\n",
      "       [5.6, 2.5, 3.9, 1.1, 'Iris-versicolor'],\n",
      "       [5.9, 3.2, 4.8, 1.8, 'Iris-versicolor'],\n",
      "       [6.1, 2.8, 4.0, 1.3, 'Iris-versicolor'],\n",
      "       [6.3, 2.5, 4.9, 1.5, 'Iris-versicolor'],\n",
      "       [6.1, 2.8, 4.7, 1.2, 'Iris-versicolor'],\n",
      "       [6.4, 2.9, 4.3, 1.3, 'Iris-versicolor'],\n",
      "       [6.6, 3.0, 4.4, 1.4, 'Iris-versicolor'],\n",
      "       [6.8, 2.8, 4.8, 1.4, 'Iris-versicolor'],\n",
      "       [6.7, 3.0, 5.0, 1.7, 'Iris-versicolor'],\n",
      "       [6.0, 2.9, 4.5, 1.5, 'Iris-versicolor'],\n",
      "       [5.7, 2.6, 3.5, 1.0, 'Iris-versicolor'],\n",
      "       [5.5, 2.4, 3.8, 1.1, 'Iris-versicolor'],\n",
      "       [5.5, 2.4, 3.7, 1.0, 'Iris-versicolor'],\n",
      "       [5.8, 2.7, 3.9, 1.2, 'Iris-versicolor'],\n",
      "       [6.0, 2.7, 5.1, 1.6, 'Iris-versicolor'],\n",
      "       [5.4, 3.0, 4.5, 1.5, 'Iris-versicolor'],\n",
      "       [6.0, 3.4, 4.5, 1.6, 'Iris-versicolor'],\n",
      "       [6.7, 3.1, 4.7, 1.5, 'Iris-versicolor'],\n",
      "       [6.3, 2.3, 4.4, 1.3, 'Iris-versicolor'],\n",
      "       [5.6, 3.0, 4.1, 1.3, 'Iris-versicolor'],\n",
      "       [5.5, 2.5, 4.0, 1.3, 'Iris-versicolor'],\n",
      "       [5.5, 2.6, 4.4, 1.2, 'Iris-versicolor'],\n",
      "       [6.1, 3.0, 4.6, 1.4, 'Iris-versicolor'],\n",
      "       [5.8, 2.6, 4.0, 1.2, 'Iris-versicolor'],\n",
      "       [5.0, 2.3, 3.3, 1.0, 'Iris-versicolor'],\n",
      "       [5.6, 2.7, 4.2, 1.3, 'Iris-versicolor'],\n",
      "       [5.7, 3.0, 4.2, 1.2, 'Iris-versicolor'],\n",
      "       [5.7, 2.9, 4.2, 1.3, 'Iris-versicolor'],\n",
      "       [6.2, 2.9, 4.3, 1.3, 'Iris-versicolor'],\n",
      "       [5.1, 2.5, 3.0, 1.1, 'Iris-versicolor'],\n",
      "       [5.7, 2.8, 4.1, 1.3, 'Iris-versicolor']], dtype=object), array([[6.3, 3.3, 6.0, 2.5, 'Iris-virginica'],\n",
      "       [5.8, 2.7, 5.1, 1.9, 'Iris-virginica'],\n",
      "       [7.1, 3.0, 5.9, 2.1, 'Iris-virginica'],\n",
      "       [6.3, 2.9, 5.6, 1.8, 'Iris-virginica'],\n",
      "       [6.5, 3.0, 5.8, 2.2, 'Iris-virginica'],\n",
      "       [7.6, 3.0, 6.6, 2.1, 'Iris-virginica'],\n",
      "       [4.9, 2.5, 4.5, 1.7, 'Iris-virginica'],\n",
      "       [7.3, 2.9, 6.3, 1.8, 'Iris-virginica'],\n",
      "       [6.7, 2.5, 5.8, 1.8, 'Iris-virginica'],\n",
      "       [7.2, 3.6, 6.1, 2.5, 'Iris-virginica'],\n",
      "       [6.5, 3.2, 5.1, 2.0, 'Iris-virginica'],\n",
      "       [6.4, 2.7, 5.3, 1.9, 'Iris-virginica'],\n",
      "       [6.8, 3.0, 5.5, 2.1, 'Iris-virginica'],\n",
      "       [5.7, 2.5, 5.0, 2.0, 'Iris-virginica'],\n",
      "       [5.8, 2.8, 5.1, 2.4, 'Iris-virginica'],\n",
      "       [6.4, 3.2, 5.3, 2.3, 'Iris-virginica'],\n",
      "       [6.5, 3.0, 5.5, 1.8, 'Iris-virginica'],\n",
      "       [7.7, 3.8, 6.7, 2.2, 'Iris-virginica'],\n",
      "       [7.7, 2.6, 6.9, 2.3, 'Iris-virginica'],\n",
      "       [6.0, 2.2, 5.0, 1.5, 'Iris-virginica'],\n",
      "       [6.9, 3.2, 5.7, 2.3, 'Iris-virginica'],\n",
      "       [5.6, 2.8, 4.9, 2.0, 'Iris-virginica'],\n",
      "       [7.7, 2.8, 6.7, 2.0, 'Iris-virginica'],\n",
      "       [6.3, 2.7, 4.9, 1.8, 'Iris-virginica'],\n",
      "       [6.7, 3.3, 5.7, 2.1, 'Iris-virginica'],\n",
      "       [7.2, 3.2, 6.0, 1.8, 'Iris-virginica'],\n",
      "       [6.2, 2.8, 4.8, 1.8, 'Iris-virginica'],\n",
      "       [6.1, 3.0, 4.9, 1.8, 'Iris-virginica'],\n",
      "       [6.4, 2.8, 5.6, 2.1, 'Iris-virginica'],\n",
      "       [7.2, 3.0, 5.8, 1.6, 'Iris-virginica'],\n",
      "       [7.4, 2.8, 6.1, 1.9, 'Iris-virginica'],\n",
      "       [7.9, 3.8, 6.4, 2.0, 'Iris-virginica'],\n",
      "       [6.4, 2.8, 5.6, 2.2, 'Iris-virginica'],\n",
      "       [6.3, 2.8, 5.1, 1.5, 'Iris-virginica'],\n",
      "       [6.1, 2.6, 5.6, 1.4, 'Iris-virginica'],\n",
      "       [7.7, 3.0, 6.1, 2.3, 'Iris-virginica'],\n",
      "       [6.3, 3.4, 5.6, 2.4, 'Iris-virginica'],\n",
      "       [6.4, 3.1, 5.5, 1.8, 'Iris-virginica'],\n",
      "       [6.0, 3.0, 4.8, 1.8, 'Iris-virginica'],\n",
      "       [6.9, 3.1, 5.4, 2.1, 'Iris-virginica'],\n",
      "       [6.7, 3.1, 5.6, 2.4, 'Iris-virginica'],\n",
      "       [6.9, 3.1, 5.1, 2.3, 'Iris-virginica'],\n",
      "       [5.8, 2.7, 5.1, 1.9, 'Iris-virginica'],\n",
      "       [6.8, 3.2, 5.9, 2.3, 'Iris-virginica'],\n",
      "       [6.7, 3.3, 5.7, 2.5, 'Iris-virginica'],\n",
      "       [6.7, 3.0, 5.2, 2.3, 'Iris-virginica'],\n",
      "       [6.3, 2.5, 5.0, 1.9, 'Iris-virginica'],\n",
      "       [6.5, 3.0, 5.2, 2.0, 'Iris-virginica'],\n",
      "       [6.2, 3.4, 5.4, 2.3, 'Iris-virginica'],\n",
      "       [5.9, 3.0, 5.1, 1.8, 'Iris-virginica']], dtype=object)]\n"
     ]
    }
   ],
   "source": [
    "\n",
    "\n",
    "#splitting\n",
    "\n",
    "newarr = np.array_split(df, 3)\n",
    "\n",
    "print(newarr)\n"
   ]
  },
  {
   "cell_type": "code",
   "execution_count": 23,
   "id": "7a02bab0",
   "metadata": {},
   "outputs": [
    {
     "data": {
      "text/plain": [
       "(50, 5)"
      ]
     },
     "execution_count": 23,
     "metadata": {},
     "output_type": "execute_result"
    }
   ],
   "source": [
    "num = newarr[1]\n",
    "num.shape"
   ]
  },
  {
   "cell_type": "code",
   "execution_count": 25,
   "id": "fe9fe114",
   "metadata": {},
   "outputs": [
    {
     "data": {
      "text/plain": [
       "7.1"
      ]
     },
     "execution_count": 25,
     "metadata": {},
     "output_type": "execute_result"
    }
   ],
   "source": [
    "#indexing\n",
    "bit=newarr[2][2][0]\n",
    "bit\n"
   ]
  },
  {
   "cell_type": "code",
   "execution_count": 27,
   "id": "d4a39b31",
   "metadata": {},
   "outputs": [
    {
     "name": "stdout",
     "output_type": "stream",
     "text": [
      "[[4.9 3.0 1.4 0.2 'Iris-setosa']\n",
      " [4.7 3.2 1.3 0.2 'Iris-setosa']\n",
      " [4.6 3.1 1.5 0.2 'Iris-setosa']\n",
      " [5.0 3.6 1.4 0.2 'Iris-setosa']]\n"
     ]
    }
   ],
   "source": [
    "#slicing\n",
    "a = np.array(df)\n",
    "\n",
    "print(a[1:5])\n"
   ]
  },
  {
   "cell_type": "code",
   "execution_count": null,
   "id": "3dde0f27",
   "metadata": {},
   "outputs": [],
   "source": []
  }
 ],
 "metadata": {
  "kernelspec": {
   "display_name": "Python 3 (ipykernel)",
   "language": "python",
   "name": "python3"
  },
  "language_info": {
   "codemirror_mode": {
    "name": "ipython",
    "version": 3
   },
   "file_extension": ".py",
   "mimetype": "text/x-python",
   "name": "python",
   "nbconvert_exporter": "python",
   "pygments_lexer": "ipython3",
   "version": "3.9.12"
  }
 },
 "nbformat": 4,
 "nbformat_minor": 5
}
